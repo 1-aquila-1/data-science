{
 "cells": [
  {
   "cell_type": "markdown",
   "id": "36d4cff3-1ca0-4985-bd5a-c73fb0c7eaf7",
   "metadata": {},
   "source": [
    "# Python Pandas: Tratando e analisando dados\n",
    "[link do curso](https://cursos.alura.com.br/course/introducao-python-pandas)"
   ]
  },
  {
   "cell_type": "markdown",
   "id": "aca793ff-4a41-4d3e-a2e9-c8b7ce7321ce",
   "metadata": {},
   "source": [
    "## 1 Import"
   ]
  },
  {
   "cell_type": "code",
   "execution_count": 1,
   "id": "7f6d71dd-a416-4f03-b3aa-21fd8c4d00d2",
   "metadata": {},
   "outputs": [],
   "source": [
    "import pandas as pd"
   ]
  },
  {
   "cell_type": "markdown",
   "id": "0ee4988c-9a9c-4484-856b-93e3546873f1",
   "metadata": {},
   "source": [
    "## 2 Fonte de dados"
   ]
  },
  {
   "cell_type": "code",
   "execution_count": 7,
   "id": "698279da-84e7-4fa8-ab0e-a85ca86c8c63",
   "metadata": {},
   "outputs": [
    {
     "data": {
      "text/html": [
       "<div>\n",
       "<style scoped>\n",
       "    .dataframe tbody tr th:only-of-type {\n",
       "        vertical-align: middle;\n",
       "    }\n",
       "\n",
       "    .dataframe tbody tr th {\n",
       "        vertical-align: top;\n",
       "    }\n",
       "\n",
       "    .dataframe thead th {\n",
       "        text-align: right;\n",
       "    }\n",
       "</style>\n",
       "<table border=\"1\" class=\"dataframe\">\n",
       "  <thead>\n",
       "    <tr style=\"text-align: right;\">\n",
       "      <th></th>\n",
       "      <th>Tipo</th>\n",
       "      <th>Bairro</th>\n",
       "      <th>Quartos</th>\n",
       "      <th>Vagas</th>\n",
       "      <th>Suites</th>\n",
       "      <th>Area</th>\n",
       "      <th>Valor</th>\n",
       "      <th>Condominio</th>\n",
       "      <th>IPTU</th>\n",
       "    </tr>\n",
       "  </thead>\n",
       "  <tbody>\n",
       "    <tr>\n",
       "      <th>0</th>\n",
       "      <td>Quitinete</td>\n",
       "      <td>Copacabana</td>\n",
       "      <td>1</td>\n",
       "      <td>0</td>\n",
       "      <td>0</td>\n",
       "      <td>40</td>\n",
       "      <td>1700.0</td>\n",
       "      <td>500.0</td>\n",
       "      <td>60.0</td>\n",
       "    </tr>\n",
       "    <tr>\n",
       "      <th>1</th>\n",
       "      <td>Casa</td>\n",
       "      <td>Jardim Botânico</td>\n",
       "      <td>2</td>\n",
       "      <td>0</td>\n",
       "      <td>1</td>\n",
       "      <td>100</td>\n",
       "      <td>7000.0</td>\n",
       "      <td>NaN</td>\n",
       "      <td>NaN</td>\n",
       "    </tr>\n",
       "  </tbody>\n",
       "</table>\n",
       "</div>"
      ],
      "text/plain": [
       "        Tipo           Bairro  Quartos  Vagas  Suites  Area   Valor  \\\n",
       "0  Quitinete       Copacabana        1      0       0    40  1700.0   \n",
       "1       Casa  Jardim Botânico        2      0       1   100  7000.0   \n",
       "\n",
       "   Condominio  IPTU  \n",
       "0       500.0  60.0  \n",
       "1         NaN   NaN  "
      ]
     },
     "execution_count": 7,
     "metadata": {},
     "output_type": "execute_result"
    }
   ],
   "source": [
    "dados = pd.read_csv('../dados/aluguel.csv', sep=';')\n",
    "dados.head(2)"
   ]
  },
  {
   "cell_type": "markdown",
   "id": "f540aa65-9131-41a3-819e-00c0669e6676",
   "metadata": {},
   "source": [
    "# Análise"
   ]
  },
  {
   "cell_type": "markdown",
   "id": "50c49270-4647-4f81-8d94-29ee5b10bbae",
   "metadata": {},
   "source": [
    "# Aula"
   ]
  },
  {
   "cell_type": "markdown",
   "id": "ae6c76b5-f82e-4469-b775-5d3df8c8762f",
   "metadata": {},
   "source": [
    "## 2 Importando dados"
   ]
  },
  {
   "cell_type": "code",
   "execution_count": 9,
   "id": "a2552ed9-3715-4e52-a730-fa941014f8c0",
   "metadata": {},
   "outputs": [
    {
     "data": {
      "text/html": [
       "<div>\n",
       "<style scoped>\n",
       "    .dataframe tbody tr th:only-of-type {\n",
       "        vertical-align: middle;\n",
       "    }\n",
       "\n",
       "    .dataframe tbody tr th {\n",
       "        vertical-align: top;\n",
       "    }\n",
       "\n",
       "    .dataframe thead th {\n",
       "        text-align: right;\n",
       "    }\n",
       "</style>\n",
       "<table border=\"1\" class=\"dataframe\">\n",
       "  <thead>\n",
       "    <tr style=\"text-align: right;\">\n",
       "      <th></th>\n",
       "      <th>Tipo</th>\n",
       "      <th>Bairro</th>\n",
       "      <th>Quartos</th>\n",
       "      <th>Vagas</th>\n",
       "      <th>Suites</th>\n",
       "      <th>Area</th>\n",
       "      <th>Valor</th>\n",
       "      <th>Condominio</th>\n",
       "      <th>IPTU</th>\n",
       "    </tr>\n",
       "  </thead>\n",
       "  <tbody>\n",
       "    <tr>\n",
       "      <th>0</th>\n",
       "      <td>Quitinete</td>\n",
       "      <td>Copacabana</td>\n",
       "      <td>1</td>\n",
       "      <td>0</td>\n",
       "      <td>0</td>\n",
       "      <td>40</td>\n",
       "      <td>1700.0</td>\n",
       "      <td>500.0</td>\n",
       "      <td>60.0</td>\n",
       "    </tr>\n",
       "    <tr>\n",
       "      <th>1</th>\n",
       "      <td>Casa</td>\n",
       "      <td>Jardim Botânico</td>\n",
       "      <td>2</td>\n",
       "      <td>0</td>\n",
       "      <td>1</td>\n",
       "      <td>100</td>\n",
       "      <td>7000.0</td>\n",
       "      <td>NaN</td>\n",
       "      <td>NaN</td>\n",
       "    </tr>\n",
       "  </tbody>\n",
       "</table>\n",
       "</div>"
      ],
      "text/plain": [
       "        Tipo           Bairro  Quartos  Vagas  Suites  Area   Valor  \\\n",
       "0  Quitinete       Copacabana        1      0       0    40  1700.0   \n",
       "1       Casa  Jardim Botânico        2      0       1   100  7000.0   \n",
       "\n",
       "   Condominio  IPTU  \n",
       "0       500.0  60.0  \n",
       "1         NaN   NaN  "
      ]
     },
     "execution_count": 9,
     "metadata": {},
     "output_type": "execute_result"
    }
   ],
   "source": [
    "dados = pd.read_csv('../dados/aluguel.csv', sep=';')\n",
    "dados.head(2)"
   ]
  },
  {
   "cell_type": "markdown",
   "id": "4bf7d603-199e-498d-b8a2-52be7979ec44",
   "metadata": {},
   "source": [
    "### 2.4 Conhecendo a base de dados"
   ]
  },
  {
   "cell_type": "markdown",
   "id": "b36ab99b-234f-4b8a-9619-416b37d72bea",
   "metadata": {},
   "source": [
    "Os tipos de dados"
   ]
  },
  {
   "cell_type": "code",
   "execution_count": 10,
   "id": "ff3d15c1-9435-42a3-9d16-68fee9c90d5a",
   "metadata": {},
   "outputs": [
    {
     "data": {
      "text/plain": [
       "Tipo           object\n",
       "Bairro         object\n",
       "Quartos         int64\n",
       "Vagas           int64\n",
       "Suites          int64\n",
       "Area            int64\n",
       "Valor         float64\n",
       "Condominio    float64\n",
       "IPTU          float64\n",
       "dtype: object"
      ]
     },
     "execution_count": 10,
     "metadata": {},
     "output_type": "execute_result"
    }
   ],
   "source": [
    "dados.dtypes"
   ]
  },
  {
   "cell_type": "markdown",
   "id": "383336d2-3697-4b87-a177-8891ef2c610a",
   "metadata": {},
   "source": [
    "Criação de Data Frame e renomeação do *name* da coluna"
   ]
  },
  {
   "cell_type": "code",
   "execution_count": 14,
   "id": "25fcdb74-b9ed-407b-9426-a5b77c9eef96",
   "metadata": {},
   "outputs": [
    {
     "data": {
      "text/html": [
       "<div>\n",
       "<style scoped>\n",
       "    .dataframe tbody tr th:only-of-type {\n",
       "        vertical-align: middle;\n",
       "    }\n",
       "\n",
       "    .dataframe tbody tr th {\n",
       "        vertical-align: top;\n",
       "    }\n",
       "\n",
       "    .dataframe thead th {\n",
       "        text-align: right;\n",
       "    }\n",
       "</style>\n",
       "<table border=\"1\" class=\"dataframe\">\n",
       "  <thead>\n",
       "    <tr style=\"text-align: right;\">\n",
       "      <th>variavel</th>\n",
       "      <th>tipo_dados</th>\n",
       "    </tr>\n",
       "  </thead>\n",
       "  <tbody>\n",
       "    <tr>\n",
       "      <th>Tipo</th>\n",
       "      <td>object</td>\n",
       "    </tr>\n",
       "    <tr>\n",
       "      <th>Bairro</th>\n",
       "      <td>object</td>\n",
       "    </tr>\n",
       "    <tr>\n",
       "      <th>Quartos</th>\n",
       "      <td>int64</td>\n",
       "    </tr>\n",
       "    <tr>\n",
       "      <th>Vagas</th>\n",
       "      <td>int64</td>\n",
       "    </tr>\n",
       "    <tr>\n",
       "      <th>Suites</th>\n",
       "      <td>int64</td>\n",
       "    </tr>\n",
       "    <tr>\n",
       "      <th>Area</th>\n",
       "      <td>int64</td>\n",
       "    </tr>\n",
       "    <tr>\n",
       "      <th>Valor</th>\n",
       "      <td>float64</td>\n",
       "    </tr>\n",
       "    <tr>\n",
       "      <th>Condominio</th>\n",
       "      <td>float64</td>\n",
       "    </tr>\n",
       "    <tr>\n",
       "      <th>IPTU</th>\n",
       "      <td>float64</td>\n",
       "    </tr>\n",
       "  </tbody>\n",
       "</table>\n",
       "</div>"
      ],
      "text/plain": [
       "variavel   tipo_dados\n",
       "Tipo           object\n",
       "Bairro         object\n",
       "Quartos         int64\n",
       "Vagas           int64\n",
       "Suites          int64\n",
       "Area            int64\n",
       "Valor         float64\n",
       "Condominio    float64\n",
       "IPTU          float64"
      ]
     },
     "execution_count": 14,
     "metadata": {},
     "output_type": "execute_result"
    }
   ],
   "source": [
    "tipo_dados = pd.DataFrame(data=dados.dtypes, columns=['tipo_dados'])\n",
    "tipo_dados.columns.name='variavel'\n",
    "tipo_dados"
   ]
  },
  {
   "cell_type": "markdown",
   "id": "66a979db-db20-4b6b-bd27-cc76d156baff",
   "metadata": {},
   "source": [
    "Retorna os númeors de linhas e colunas"
   ]
  },
  {
   "cell_type": "code",
   "execution_count": 15,
   "id": "97455184-f66d-4f4a-9b03-af30824cd9e1",
   "metadata": {},
   "outputs": [
    {
     "data": {
      "text/plain": [
       "(32960, 9)"
      ]
     },
     "execution_count": 15,
     "metadata": {},
     "output_type": "execute_result"
    }
   ],
   "source": [
    "dados.shape"
   ]
  },
  {
   "cell_type": "code",
   "execution_count": 17,
   "id": "a7e8c0db-26e0-4593-90a9-491ec3596510",
   "metadata": {},
   "outputs": [
    {
     "name": "stdout",
     "output_type": "stream",
     "text": [
      "A base de dados apresenta 32960 linhas e 9 colunas ou variáveis\n"
     ]
    }
   ],
   "source": [
    "print(f\"A base de dados apresenta {dados.shape[0]} linhas e {dados.shape[1]} colunas ou variáveis\")"
   ]
  },
  {
   "cell_type": "markdown",
   "id": "0142098d-8d8b-4f3a-b13f-529bde2a6953",
   "metadata": {},
   "source": [
    "### 2.7 Importando outras fontes"
   ]
  },
  {
   "cell_type": "markdown",
   "id": "c7579e61-a32a-435d-b50d-fe19d4e526a8",
   "metadata": {},
   "source": [
    "Leitura de dados json"
   ]
  },
  {
   "cell_type": "code",
   "execution_count": 20,
   "id": "8bf9349c-c8cd-4483-aa64-2c61fcf69f4a",
   "metadata": {},
   "outputs": [
    {
     "data": {
      "text/html": [
       "<div>\n",
       "<style scoped>\n",
       "    .dataframe tbody tr th:only-of-type {\n",
       "        vertical-align: middle;\n",
       "    }\n",
       "\n",
       "    .dataframe tbody tr th {\n",
       "        vertical-align: top;\n",
       "    }\n",
       "\n",
       "    .dataframe thead th {\n",
       "        text-align: right;\n",
       "    }\n",
       "</style>\n",
       "<table border=\"1\" class=\"dataframe\">\n",
       "  <thead>\n",
       "    <tr style=\"text-align: right;\">\n",
       "      <th></th>\n",
       "      <th>Tipo</th>\n",
       "      <th>Bairro</th>\n",
       "      <th>Quartos</th>\n",
       "      <th>Vagas</th>\n",
       "      <th>Suites</th>\n",
       "      <th>Area</th>\n",
       "      <th>Valor</th>\n",
       "      <th>Condominio</th>\n",
       "      <th>IPTU</th>\n",
       "    </tr>\n",
       "  </thead>\n",
       "  <tbody>\n",
       "    <tr>\n",
       "      <th>0</th>\n",
       "      <td>Quitinete</td>\n",
       "      <td>Copacabana</td>\n",
       "      <td>1</td>\n",
       "      <td>0</td>\n",
       "      <td>0</td>\n",
       "      <td>40</td>\n",
       "      <td>1700</td>\n",
       "      <td>500.0</td>\n",
       "      <td>60.0</td>\n",
       "    </tr>\n",
       "    <tr>\n",
       "      <th>1</th>\n",
       "      <td>Casa</td>\n",
       "      <td>Jardim Botânico</td>\n",
       "      <td>2</td>\n",
       "      <td>0</td>\n",
       "      <td>1</td>\n",
       "      <td>100</td>\n",
       "      <td>7000</td>\n",
       "      <td>NaN</td>\n",
       "      <td>NaN</td>\n",
       "    </tr>\n",
       "  </tbody>\n",
       "</table>\n",
       "</div>"
      ],
      "text/plain": [
       "        Tipo           Bairro  Quartos  Vagas  Suites  Area  Valor  \\\n",
       "0  Quitinete       Copacabana        1      0       0    40   1700   \n",
       "1       Casa  Jardim Botânico        2      0       1   100   7000   \n",
       "\n",
       "   Condominio  IPTU  \n",
       "0       500.0  60.0  \n",
       "1         NaN   NaN  "
      ]
     },
     "execution_count": 20,
     "metadata": {},
     "output_type": "execute_result"
    }
   ],
   "source": [
    "df_json = pd.read_json('../dados/aluguel.json')\n",
    "df_json.head(2)"
   ]
  },
  {
   "cell_type": "markdown",
   "id": "f9fe3729-5cb7-4ae5-8214-2f7d25c78b47",
   "metadata": {},
   "source": [
    "Leitura de dados txt"
   ]
  },
  {
   "cell_type": "code",
   "execution_count": 26,
   "id": "72bd30f2-e21f-4016-954f-af0940f8acee",
   "metadata": {},
   "outputs": [
    {
     "data": {
      "text/html": [
       "<div>\n",
       "<style scoped>\n",
       "    .dataframe tbody tr th:only-of-type {\n",
       "        vertical-align: middle;\n",
       "    }\n",
       "\n",
       "    .dataframe tbody tr th {\n",
       "        vertical-align: top;\n",
       "    }\n",
       "\n",
       "    .dataframe thead th {\n",
       "        text-align: right;\n",
       "    }\n",
       "</style>\n",
       "<table border=\"1\" class=\"dataframe\">\n",
       "  <thead>\n",
       "    <tr style=\"text-align: right;\">\n",
       "      <th></th>\n",
       "      <th>Tipo</th>\n",
       "      <th>Bairro</th>\n",
       "      <th>Quartos</th>\n",
       "      <th>Vagas</th>\n",
       "      <th>Suites</th>\n",
       "      <th>Area</th>\n",
       "      <th>Valor</th>\n",
       "      <th>Condominio</th>\n",
       "      <th>IPTU</th>\n",
       "    </tr>\n",
       "  </thead>\n",
       "  <tbody>\n",
       "    <tr>\n",
       "      <th>0</th>\n",
       "      <td>Quitinete</td>\n",
       "      <td>Copacabana</td>\n",
       "      <td>1</td>\n",
       "      <td>0</td>\n",
       "      <td>0</td>\n",
       "      <td>40</td>\n",
       "      <td>1700</td>\n",
       "      <td>500.0</td>\n",
       "      <td>60.0</td>\n",
       "    </tr>\n",
       "    <tr>\n",
       "      <th>1</th>\n",
       "      <td>Casa</td>\n",
       "      <td>Jardim Botânico</td>\n",
       "      <td>2</td>\n",
       "      <td>0</td>\n",
       "      <td>1</td>\n",
       "      <td>100</td>\n",
       "      <td>7000</td>\n",
       "      <td>NaN</td>\n",
       "      <td>NaN</td>\n",
       "    </tr>\n",
       "  </tbody>\n",
       "</table>\n",
       "</div>"
      ],
      "text/plain": [
       "        Tipo           Bairro  Quartos  Vagas  Suites  Area  Valor  \\\n",
       "0  Quitinete       Copacabana        1      0       0    40   1700   \n",
       "1       Casa  Jardim Botânico        2      0       1   100   7000   \n",
       "\n",
       "   Condominio  IPTU  \n",
       "0       500.0  60.0  \n",
       "1         NaN   NaN  "
      ]
     },
     "execution_count": 26,
     "metadata": {},
     "output_type": "execute_result"
    }
   ],
   "source": [
    "df_txt = pd.read_table('../dados/aluguel.txt')\n",
    "df_txt.head(2)"
   ]
  },
  {
   "cell_type": "markdown",
   "id": "f165bfe1-959d-4dc9-87b7-a2db0c07b96b",
   "metadata": {},
   "source": [
    "Leitura de arquivo do excel"
   ]
  },
  {
   "cell_type": "code",
   "execution_count": 3,
   "id": "a0c286b7-c99f-49cd-bfa0-9d91ff9b5ca5",
   "metadata": {},
   "outputs": [
    {
     "data": {
      "text/html": [
       "<div>\n",
       "<style scoped>\n",
       "    .dataframe tbody tr th:only-of-type {\n",
       "        vertical-align: middle;\n",
       "    }\n",
       "\n",
       "    .dataframe tbody tr th {\n",
       "        vertical-align: top;\n",
       "    }\n",
       "\n",
       "    .dataframe thead th {\n",
       "        text-align: right;\n",
       "    }\n",
       "</style>\n",
       "<table border=\"1\" class=\"dataframe\">\n",
       "  <thead>\n",
       "    <tr style=\"text-align: right;\">\n",
       "      <th></th>\n",
       "      <th>Tipo</th>\n",
       "      <th>Bairro</th>\n",
       "      <th>Quartos</th>\n",
       "      <th>Vagas</th>\n",
       "      <th>Suites</th>\n",
       "      <th>Area</th>\n",
       "      <th>Valor</th>\n",
       "      <th>Condominio</th>\n",
       "      <th>IPTU</th>\n",
       "    </tr>\n",
       "  </thead>\n",
       "  <tbody>\n",
       "    <tr>\n",
       "      <th>0</th>\n",
       "      <td>Quitinete</td>\n",
       "      <td>Copacabana</td>\n",
       "      <td>1</td>\n",
       "      <td>0</td>\n",
       "      <td>0</td>\n",
       "      <td>40</td>\n",
       "      <td>1700</td>\n",
       "      <td>500.0</td>\n",
       "      <td>60.0</td>\n",
       "    </tr>\n",
       "    <tr>\n",
       "      <th>1</th>\n",
       "      <td>Casa</td>\n",
       "      <td>Jardim Botânico</td>\n",
       "      <td>2</td>\n",
       "      <td>0</td>\n",
       "      <td>1</td>\n",
       "      <td>100</td>\n",
       "      <td>7000</td>\n",
       "      <td>NaN</td>\n",
       "      <td>NaN</td>\n",
       "    </tr>\n",
       "  </tbody>\n",
       "</table>\n",
       "</div>"
      ],
      "text/plain": [
       "        Tipo           Bairro  Quartos  Vagas  Suites  Area  Valor  \\\n",
       "0  Quitinete       Copacabana        1      0       0    40   1700   \n",
       "1       Casa  Jardim Botânico        2      0       1   100   7000   \n",
       "\n",
       "   Condominio  IPTU  \n",
       "0       500.0  60.0  \n",
       "1         NaN   NaN  "
      ]
     },
     "execution_count": 3,
     "metadata": {},
     "output_type": "execute_result"
    }
   ],
   "source": [
    "df_xlsx = pd.read_excel('../dados/aluguel.xlsx')\n",
    "df_xlsx.head(2)"
   ]
  },
  {
   "cell_type": "markdown",
   "id": "60f53533-0dcd-4993-94c0-aca8c87ca3e9",
   "metadata": {},
   "source": [
    "Leitura de página html"
   ]
  },
  {
   "cell_type": "code",
   "execution_count": 2,
   "id": "485fd239-9471-4100-ae36-40796d21748b",
   "metadata": {},
   "outputs": [
    {
     "data": {
      "text/html": [
       "<div>\n",
       "<style scoped>\n",
       "    .dataframe tbody tr th:only-of-type {\n",
       "        vertical-align: middle;\n",
       "    }\n",
       "\n",
       "    .dataframe tbody tr th {\n",
       "        vertical-align: top;\n",
       "    }\n",
       "\n",
       "    .dataframe thead th {\n",
       "        text-align: right;\n",
       "    }\n",
       "</style>\n",
       "<table border=\"1\" class=\"dataframe\">\n",
       "  <thead>\n",
       "    <tr style=\"text-align: right;\">\n",
       "      <th></th>\n",
       "      <th>FAIXA ETÁRIA</th>\n",
       "      <th>UNAFISCO SAÚDE SOFT II</th>\n",
       "      <th>SOFT PARTICIPATIVO</th>\n",
       "      <th>UNIQUE</th>\n",
       "    </tr>\n",
       "  </thead>\n",
       "  <tbody>\n",
       "    <tr>\n",
       "      <th>0</th>\n",
       "      <td>00 A 18</td>\n",
       "      <td>R$218,99</td>\n",
       "      <td>R$192,60</td>\n",
       "      <td>R$334,48</td>\n",
       "    </tr>\n",
       "    <tr>\n",
       "      <th>1</th>\n",
       "      <td>19 A 23</td>\n",
       "      <td>R$263,63</td>\n",
       "      <td>R$207,67</td>\n",
       "      <td>R$380,06</td>\n",
       "    </tr>\n",
       "    <tr>\n",
       "      <th>2</th>\n",
       "      <td>24 A 28</td>\n",
       "      <td>R$322,44</td>\n",
       "      <td>R$224,26</td>\n",
       "      <td>R$464,39</td>\n",
       "    </tr>\n",
       "    <tr>\n",
       "      <th>3</th>\n",
       "      <td>29 A 33</td>\n",
       "      <td>R$402,05</td>\n",
       "      <td>R$258,63</td>\n",
       "      <td>R$566,68</td>\n",
       "    </tr>\n",
       "    <tr>\n",
       "      <th>4</th>\n",
       "      <td>34 A 38</td>\n",
       "      <td>R$455,17</td>\n",
       "      <td>R$306,37</td>\n",
       "      <td>R$664,61</td>\n",
       "    </tr>\n",
       "    <tr>\n",
       "      <th>5</th>\n",
       "      <td>39 A 43</td>\n",
       "      <td>R$489,29</td>\n",
       "      <td>R$417,93</td>\n",
       "      <td>R$742,72</td>\n",
       "    </tr>\n",
       "    <tr>\n",
       "      <th>6</th>\n",
       "      <td>44 A 48</td>\n",
       "      <td>R$582,65</td>\n",
       "      <td>R$495,24</td>\n",
       "      <td>R$869,47</td>\n",
       "    </tr>\n",
       "    <tr>\n",
       "      <th>7</th>\n",
       "      <td>49 A 53</td>\n",
       "      <td>R$718,86</td>\n",
       "      <td>R$562,64</td>\n",
       "      <td>R$1.046,29</td>\n",
       "    </tr>\n",
       "    <tr>\n",
       "      <th>8</th>\n",
       "      <td>54 A 58</td>\n",
       "      <td>R$908,54</td>\n",
       "      <td>R$721,00</td>\n",
       "      <td>R$1.355,74</td>\n",
       "    </tr>\n",
       "    <tr>\n",
       "      <th>9</th>\n",
       "      <td>59 OU MAIS</td>\n",
       "      <td>R$1.244,50</td>\n",
       "      <td>R$1.151,62</td>\n",
       "      <td>R$2.003,53</td>\n",
       "    </tr>\n",
       "  </tbody>\n",
       "</table>\n",
       "</div>"
      ],
      "text/plain": [
       "  FAIXA ETÁRIA UNAFISCO SAÚDE SOFT II SOFT PARTICIPATIVO      UNIQUE\n",
       "0      00 A 18               R$218,99           R$192,60    R$334,48\n",
       "1      19 A 23               R$263,63           R$207,67    R$380,06\n",
       "2      24 A 28               R$322,44           R$224,26    R$464,39\n",
       "3      29 A 33               R$402,05           R$258,63    R$566,68\n",
       "4      34 A 38               R$455,17           R$306,37    R$664,61\n",
       "5      39 A 43               R$489,29           R$417,93    R$742,72\n",
       "6      44 A 48               R$582,65           R$495,24    R$869,47\n",
       "7      49 A 53               R$718,86           R$562,64  R$1.046,29\n",
       "8      54 A 58               R$908,54           R$721,00  R$1.355,74\n",
       "9   59 OU MAIS             R$1.244,50         R$1.151,62  R$2.003,53"
      ]
     },
     "execution_count": 2,
     "metadata": {},
     "output_type": "execute_result"
    }
   ],
   "source": [
    "df_html = pd.read_html('../dados/dados_html_1.html')\n",
    "df_html[0]"
   ]
  },
  {
   "cell_type": "code",
   "execution_count": 4,
   "id": "c334c87d-be41-4078-9df5-1aedb15a59ad",
   "metadata": {},
   "outputs": [
    {
     "data": {
      "text/plain": [
       "3"
      ]
     },
     "execution_count": 4,
     "metadata": {},
     "output_type": "execute_result"
    }
   ],
   "source": [
    "df_html = pd.read_html('https://www.federalreserve.gov/releases/h3/current/default.htm')\n",
    "\n",
    "len(df_html)"
   ]
  },
  {
   "cell_type": "code",
   "execution_count": 25,
   "id": "3bfbcf88-37e7-479e-befd-ad6af3b8e0a9",
   "metadata": {},
   "outputs": [],
   "source": [
    "## 3 Series e Index"
   ]
  },
  {
   "cell_type": "code",
   "execution_count": null,
   "id": "1ace99d6-7456-4ef3-a181-af2cce64d27e",
   "metadata": {},
   "outputs": [],
   "source": [
    "## 4 Filtrando dados"
   ]
  },
  {
   "cell_type": "code",
   "execution_count": null,
   "id": "a1c75401-8d19-41ae-b53a-d820063b6dac",
   "metadata": {},
   "outputs": [],
   "source": [
    "## 5 Frequências de imóveis"
   ]
  },
  {
   "cell_type": "code",
   "execution_count": null,
   "id": "5360213d-b0ea-4358-b898-79636c97a442",
   "metadata": {},
   "outputs": [],
   "source": [
    "## 6 Tratando de dados faltantes"
   ]
  },
  {
   "cell_type": "code",
   "execution_count": null,
   "id": "d4b8bca7-10cb-4a72-87f7-4562123c454b",
   "metadata": {},
   "outputs": [],
   "source": [
    "## 7 Novas variáveis"
   ]
  },
  {
   "cell_type": "code",
   "execution_count": null,
   "id": "c24770bd-0ad8-4b34-ab56-b0b54ce975d9",
   "metadata": {},
   "outputs": [],
   "source": [
    "## 8 Estatísticas descritivas"
   ]
  },
  {
   "cell_type": "code",
   "execution_count": null,
   "id": "8caebe1c-6839-4ac6-9024-e31672b7dc66",
   "metadata": {},
   "outputs": [],
   "source": [
    "## 9 Removendo Outliers"
   ]
  }
 ],
 "metadata": {
  "kernelspec": {
   "display_name": "Python 3",
   "language": "python",
   "name": "python3"
  },
  "language_info": {
   "codemirror_mode": {
    "name": "ipython",
    "version": 3
   },
   "file_extension": ".py",
   "mimetype": "text/x-python",
   "name": "python",
   "nbconvert_exporter": "python",
   "pygments_lexer": "ipython3",
   "version": "3.9.4"
  }
 },
 "nbformat": 4,
 "nbformat_minor": 5
}
